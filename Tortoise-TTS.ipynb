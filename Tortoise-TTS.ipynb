{
  "cells": [
    {
      "cell_type": "markdown",
      "metadata": {},
      "source": [
        "Code"
      ]
    },
    {
      "cell_type": "code",
      "execution_count": 1,
      "metadata": {},
      "outputs": [
        {
          "name": "stdout",
          "output_type": "stream",
          "text": [
            "Sat Aug 12 15:03:27 2023       \n",
            "+-----------------------------------------------------------------------------+\n",
            "| NVIDIA-SMI 528.92       Driver Version: 528.92       CUDA Version: 12.0     |\n",
            "|-------------------------------+----------------------+----------------------+\n",
            "| GPU  Name            TCC/WDDM | Bus-Id        Disp.A | Volatile Uncorr. ECC |\n",
            "| Fan  Temp  Perf  Pwr:Usage/Cap|         Memory-Usage | GPU-Util  Compute M. |\n",
            "|                               |                      |               MIG M. |\n",
            "|===============================+======================+======================|\n",
            "|   0  NVIDIA GeForce ... WDDM  | 00000000:02:00.0 Off |                  N/A |\n",
            "| N/A   44C    P0    N/A /  N/A |      0MiB /  4096MiB |      0%      Default |\n",
            "|                               |                      |                  N/A |\n",
            "+-------------------------------+----------------------+----------------------+\n",
            "                                                                               \n",
            "+-----------------------------------------------------------------------------+\n",
            "| Processes:                                                                  |\n",
            "|  GPU   GI   CI        PID   Type   Process name                  GPU Memory |\n",
            "|        ID   ID                                                   Usage      |\n",
            "|=============================================================================|\n",
            "|  No running processes found                                                 |\n",
            "+-----------------------------------------------------------------------------+\n"
          ]
        }
      ],
      "source": [
        "!nvidia-smi"
      ]
    },
    {
      "cell_type": "code",
      "execution_count": 3,
      "metadata": {},
      "outputs": [
        {
          "name": "stdout",
          "output_type": "stream",
          "text": [
            "d:\\junk\\web projects\\v\\tortoise-tts\n"
          ]
        }
      ],
      "source": [
        "# !pip3 install -U scipy\n",
        "\n",
        "# !git clone https://github.com/neonbjb/tortoise-tts.git\n",
        "%cd tortoise-tts\n",
        "\n",
        "# !python3 setup.py install\n"
      ]
    },
    {
      "cell_type": "code",
      "execution_count": 4,
      "metadata": {},
      "outputs": [],
      "source": [
        "import torch\n",
        "import torchaudio\n",
        "import torch.nn as nn\n",
        "import torch.nn.functional as F\n",
        "\n",
        "import IPython\n",
        "\n",
        "from tortoise.api import TextToSpeech\n",
        "from tortoise.utils.audio import load_audio, load_voice, load_voices\n",
        "\n",
        "import os"
      ]
    },
    {
      "cell_type": "code",
      "execution_count": 5,
      "metadata": {},
      "outputs": [],
      "source": [
        "tts = TextToSpeech()"
      ]
    },
    {
      "cell_type": "code",
      "execution_count": 6,
      "metadata": {},
      "outputs": [
        {
          "name": "stdout",
          "output_type": "stream",
          "text": [
            "WAV files renamed successfully.\n"
          ]
        }
      ],
      "source": [
        "import os\n",
        "import shutil\n",
        "\n",
        "# Path to the folder containing the WAV files\n",
        "folder_path = 'D:\\\\junk\\\\web projects\\\\v\\\\wav\\\\wav'\n",
        "\n",
        "# List all files in the folder\n",
        "file_list = os.listdir(folder_path)\n",
        "\n",
        "# Filter only WAV files\n",
        "wav_files = [file for file in file_list if file.lower().endswith('.wav')]\n",
        "\n",
        "# Sort the WAV files\n",
        "wav_files.sort()\n",
        "\n",
        "# Rename and move the files\n",
        "for index, old_filename in enumerate(wav_files, start=1):\n",
        "    new_filename = f\"{index}.wav\"\n",
        "    old_filepath = os.path.join(folder_path, old_filename)\n",
        "    new_filepath = os.path.join(folder_path, new_filename)\n",
        "    shutil.move(old_filepath, new_filepath)\n",
        "\n",
        "print(\"WAV files renamed successfully.\")\n"
      ]
    },
    {
      "cell_type": "markdown",
      "metadata": {},
      "source": [
        "TEST 1 LINE TTS"
      ]
    },
    {
      "cell_type": "code",
      "execution_count": 7,
      "metadata": {},
      "outputs": [
        {
          "name": "stdout",
          "output_type": "stream",
          "text": [
            "Generating autoregressive samples..\n"
          ]
        },
        {
          "name": "stderr",
          "output_type": "stream",
          "text": [
            "  0%|          | 0/96 [00:00<?, ?it/s]"
          ]
        }
      ],
      "source": [
        "# Define your own voice folder\n",
        "VOICE_NAME='daniel'\n",
        "text='Tortoise is a significant advancement in the field of natural language processing.'\n",
        "preset = \"fast\"\n",
        "\n",
        "# Generate with your own voice\n",
        "voice_samples, conditioning_latents = load_voice(VOICE_NAME)\n",
        "gen = tts.tts_with_preset(text, voice_samples=voice_samples, conditioning_latents=conditioning_latents,\n",
        "                          preset=preset)\n",
        "torchaudio.save(f'generated-{VOICE_NAME}.wav', gen.squeeze(0).cpu(), 24000)\n",
        "IPython.display.Audio(f'generated-{VOICE_NAME}.wav')"
      ]
    },
    {
      "cell_type": "markdown",
      "metadata": {},
      "source": [
        "SRT TO TEXT"
      ]
    },
    {
      "cell_type": "code",
      "execution_count": null,
      "metadata": {},
      "outputs": [],
      "source": [
        "def combine_srt_text(srt_file_path):\n",
        "    with open(srt_file_path, 'r') as file:\n",
        "        lines = file.readlines()\n",
        "\n",
        "    text = ''\n",
        "    current_text = []\n",
        "\n",
        "    for line in lines:\n",
        "        line = line.strip()\n",
        "        if line.isdigit():\n",
        "            if current_text:\n",
        "                text += ' '.join(current_text) + ' '\n",
        "                current_text = []\n",
        "        elif line and not line.startswith(('0', '1', '2', '3', '4', '5', '6', '7', '8', '9')):\n",
        "            current_text.append(line)\n",
        "\n",
        "    if current_text:\n",
        "        text += ' '.join(current_text)\n",
        "\n",
        "    return text\n",
        "\n",
        "srt_file_path = 'test.srt'\n",
        "combined_text = combine_srt_text(srt_file_path)\n",
        "\n",
        "with open('test.txt', 'w') as output_file:\n",
        "    output_file.write(combined_text)\n"
      ]
    },
    {
      "cell_type": "markdown",
      "metadata": {},
      "source": [
        "READ TEXT FILE AND TTS"
      ]
    },
    {
      "cell_type": "code",
      "execution_count": null,
      "metadata": {},
      "outputs": [],
      "source": [
        "# Define your own voice folder\n",
        "VOICE_NAME = 'daniel'\n",
        "preset = \"fast\"\n",
        "\n",
        "# preset values are: \"fast\", \"ultra-fast\"\n",
        "# Load voice samples and conditioning latents\n",
        "voice_samples, conditioning_latents = load_voice(VOICE_NAME)\n",
        "\n",
        "# Read text from a text file sentence by sentence\n",
        "input_text_file = 'test.txt'\n",
        "output_waveform = []\n",
        "\n",
        "with open(input_text_file, 'r') as f:\n",
        "    text = f.read()\n",
        "    sentences = text.split('. ')  # Assuming sentences are separated by \". \"\n",
        "    for sentence in sentences:\n",
        "        sentence = sentence.strip()\n",
        "\n",
        "        # Generate speech for the current sentence\n",
        "        gen = tts.tts_with_preset(sentence, voice_samples=voice_samples, conditioning_latents=conditioning_latents,\n",
        "                                  preset=preset)\n",
        "\n",
        "        # Append generated speech to the output waveform\n",
        "        output_waveform.append(gen.squeeze(0).cpu())\n",
        "\n",
        "# Combine generated waveforms into a single waveform\n",
        "combined_waveform = torch.cat(output_waveform, dim=1)\n",
        "\n",
        "# Create the \"result\" folder if it doesn't exist\n",
        "output_folder = 'result'\n",
        "os.makedirs(output_folder, exist_ok=True)\n",
        "\n",
        "# Save the combined waveform as a WAV file in the \"result\" folder\n",
        "combined_output_wav = os.path.join(output_folder, f'combined-generated-{VOICE_NAME}.wav')\n",
        "torchaudio.save(combined_output_wav, combined_waveform, 24000)\n",
        "\n",
        "# Display the combined WAV file\n",
        "IPython.display.Audio(combined_output_wav)\n"
      ]
    }
  ],
  "metadata": {
    "colab": {
      "provenance": []
    },
    "kernelspec": {
      "display_name": "Python 3",
      "name": "python3"
    },
    "language_info": {
      "codemirror_mode": {
        "name": "ipython",
        "version": 3
      },
      "file_extension": ".py",
      "mimetype": "text/x-python",
      "name": "python",
      "nbconvert_exporter": "python",
      "pygments_lexer": "ipython3",
      "version": "3.11.2"
    }
  },
  "nbformat": 4,
  "nbformat_minor": 0
}
